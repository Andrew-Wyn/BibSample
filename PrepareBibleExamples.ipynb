{
 "cells": [
  {
   "cell_type": "markdown",
   "metadata": {},
   "source": [
    "Quick notebook to prepae examples (not the tfrecord kind) from Project Gutenborgs Bible text"
   ]
  },
  {
   "cell_type": "code",
   "execution_count": 1,
   "metadata": {},
   "outputs": [],
   "source": [
    "import re"
   ]
  },
  {
   "cell_type": "code",
   "execution_count": 2,
   "metadata": {},
   "outputs": [],
   "source": [
    "txt = open('./pg10.txt').read()"
   ]
  },
  {
   "cell_type": "code",
   "execution_count": 3,
   "metadata": {},
   "outputs": [],
   "source": [
    "split_reg = re.compile('\\n{4}')"
   ]
  },
  {
   "cell_type": "markdown",
   "metadata": {},
   "source": [
    "# split the raw text of the bible into books"
   ]
  },
  {
   "cell_type": "code",
   "execution_count": 4,
   "metadata": {},
   "outputs": [],
   "source": [
    "books = split_reg.split(txt)"
   ]
  },
  {
   "cell_type": "code",
   "execution_count": 11,
   "metadata": {},
   "outputs": [],
   "source": [
    "books = books[4:] # The first 4 are preamble from project gutenberg"
   ]
  },
  {
   "cell_type": "markdown",
   "metadata": {},
   "source": [
    "Split each book into the name of the book and its text"
   ]
  },
  {
   "cell_type": "code",
   "execution_count": 34,
   "metadata": {},
   "outputs": [],
   "source": [
    "book_verse_spliter = re.compile('\\n{3}')\n",
    "book,verses = book_verse_spliter.split(books[1])"
   ]
  },
  {
   "cell_type": "code",
   "execution_count": 35,
   "metadata": {},
   "outputs": [
    {
     "data": {
      "text/plain": [
       "'\\nThe Second Book of Moses:  Called Exodus'"
      ]
     },
     "execution_count": 35,
     "metadata": {},
     "output_type": "execute_result"
    }
   ],
   "source": [
    "book"
   ]
  },
  {
   "cell_type": "code",
   "execution_count": 19,
   "metadata": {},
   "outputs": [
    {
     "data": {
      "text/plain": [
       "'1:1 In the beginning God created the heavens and the earth.\\n\\n1:2 And the earth was without form, and'"
      ]
     },
     "execution_count": 19,
     "metadata": {},
     "output_type": "execute_result"
    }
   ],
   "source": [
    "verses[:100]"
   ]
  },
  {
   "cell_type": "markdown",
   "metadata": {},
   "source": [
    "Split all the text in one book into verses. Make it a dict of chapter, verse and text"
   ]
  },
  {
   "cell_type": "code",
   "execution_count": 24,
   "metadata": {},
   "outputs": [],
   "source": [
    "verses_splitter = re.compile('(?P<chapter>\\d+)\\:(?P<verse>\\d+)(?P<text>.+)',flags=re.MULTILINE)"
   ]
  },
  {
   "cell_type": "code",
   "execution_count": 25,
   "metadata": {},
   "outputs": [],
   "source": [
    "gen = verses_splitter.finditer(verses)"
   ]
  },
  {
   "cell_type": "code",
   "execution_count": 29,
   "metadata": {},
   "outputs": [
    {
     "data": {
      "text/plain": [
       "{'chapter': '1',\n",
       " 'text': ' And God saw the light, that it was good: and God divided the light',\n",
       " 'verse': '4'}"
      ]
     },
     "execution_count": 29,
     "metadata": {},
     "output_type": "execute_result"
    }
   ],
   "source": [
    "\n",
    "next(gen).groupdict()"
   ]
  },
  {
   "cell_type": "markdown",
   "metadata": {},
   "source": [
    "Lets run all of that on the entire bible"
   ]
  },
  {
   "cell_type": "code",
   "execution_count": 62,
   "metadata": {},
   "outputs": [],
   "source": [
    "examples= []\n",
    "\n",
    "for num,book in enumerate(books):\n",
    "    try:\n",
    "        book_name, book_text = book_verse_spliter.split(book)\n",
    "        book_name = book_name.strip()\n",
    "        for verse_regex_match in verses_splitter.finditer(book_text):\n",
    "            example = verse_regex_match.groupdict()\n",
    "            example.update({\"book\":book_name,\"book_id\":num,\"text\":example[\"text\"].strip()})\n",
    "            examples.append(example)\n",
    "    except:\n",
    "        #Hack, the above only gets us to psalms\n",
    "        pass"
   ]
  },
  {
   "cell_type": "code",
   "execution_count": 68,
   "metadata": {},
   "outputs": [
    {
     "data": {
      "text/plain": [
       "[{'book': 'The First Book of Moses:  Called Genesis',\n",
       "  'book_id': 0,\n",
       "  'chapter': '1',\n",
       "  'text': 'In the beginning God created the heavens and the earth.',\n",
       "  'verse': '1'},\n",
       " {'book': 'The First Book of Moses:  Called Genesis',\n",
       "  'book_id': 0,\n",
       "  'chapter': '1',\n",
       "  'text': 'And the earth was without form, and void; and darkness was upon',\n",
       "  'verse': '2'},\n",
       " {'book': 'The First Book of Moses:  Called Genesis',\n",
       "  'book_id': 0,\n",
       "  'chapter': '1',\n",
       "  'text': 'And God said, Let there be light: and there was light.',\n",
       "  'verse': '3'}]"
      ]
     },
     "execution_count": 68,
     "metadata": {},
     "output_type": "execute_result"
    }
   ],
   "source": [
    "examples[:3]"
   ]
  },
  {
   "cell_type": "markdown",
   "metadata": {},
   "source": [
    "Lets save it"
   ]
  },
  {
   "cell_type": "code",
   "execution_count": 81,
   "metadata": {},
   "outputs": [],
   "source": [
    "import pandas as pd\n",
    "D = pd.DataFrame(examples)"
   ]
  },
  {
   "cell_type": "code",
   "execution_count": 83,
   "metadata": {},
   "outputs": [
    {
     "data": {
      "text/plain": [
       "214"
      ]
     },
     "execution_count": 83,
     "metadata": {},
     "output_type": "execute_result"
    }
   ],
   "source": [
    "D.book_id.max()"
   ]
  },
  {
   "cell_type": "code",
   "execution_count": 67,
   "metadata": {},
   "outputs": [],
   "source": [
    "pickle.dump(examples,open('./bible_data.pkl','wb'))"
   ]
  },
  {
   "cell_type": "markdown",
   "metadata": {},
   "source": [
    "# Now we make them into TF records"
   ]
  },
  {
   "cell_type": "code",
   "execution_count": 70,
   "metadata": {},
   "outputs": [],
   "source": [
    "import tensorflow as tf\n",
    "from preppy import Preppy\n",
    "class BibPreppy(Preppy):\n",
    "    '''\n",
    "    We'll slightly extend to way we right tfrecords to store the id of the book it came from\n",
    "    '''\n",
    "    def sequence_to_tf_example(self,sequence,book_id):\n",
    "        id_list = self.sentance_to_id_list(sequence)\n",
    "        ex = tf.train.SequenceExample()\n",
    "        # A non-sequential feature of our example\n",
    "        sequence_length = len(sequence)\n",
    "        ex.context.feature[\"length\"].int64_list.value.append(sequence_length)\n",
    "        ex.context.feature[\"book_id\"].int64_list.value.append(book_id)\n",
    "        # Feature lists for the two sequential features of our example\n",
    "        fl_tokens = ex.feature_lists.feature_list[\"tokens\"]\n",
    "\n",
    "        for token in id_list:\n",
    "            fl_tokens.feature.add().int64_list.value.append(token)\n",
    "\n",
    "        return ex\n",
    "    def parse(ex):\n",
    "        '''\n",
    "        Explain to TF how to go froma  serialized example back to tensors\n",
    "        :param ex:\n",
    "        :return:\n",
    "        '''\n",
    "        context_features = {\n",
    "            \"length\": tf.FixedLenFeature([], dtype=tf.int64),\n",
    "            \"book_id\": tf.FixedLenFeature([], dtype=tf.int64)\n",
    "        }\n",
    "        sequence_features = {\n",
    "            \"tokens\": tf.FixedLenSequenceFeature([], dtype=tf.int64),\n",
    "        }\n",
    "\n",
    "        # Parse the example (returns a dictionary of tensors)\n",
    "        context_parsed, sequence_parsed = tf.parse_single_sequence_example(\n",
    "            serialized=ex,\n",
    "            context_features=context_features,\n",
    "            sequence_features=sequence_features\n",
    "        )\n",
    "        return {\"seq\":sequence_parsed[\"tokens\"], \"length\": context_parsed[\"length\"], \n",
    "                \"book_id\": context_parsed[\"book_id\"]}\n",
    "\n"
   ]
  },
  {
   "cell_type": "code",
   "execution_count": 72,
   "metadata": {},
   "outputs": [],
   "source": [
    "import random\n",
    "random.shuffle(examples)\n",
    "val,train = examples[:3000], examples[3000:]"
   ]
  },
  {
   "cell_type": "code",
   "execution_count": 75,
   "metadata": {},
   "outputs": [],
   "source": [
    "BP =BibPreppy(tokenizer_fn=list) #Charecter level tokenization\n",
    "for (data,path) in [(val,'./val.tfrecord'),(train,'./train.tfrecord')]:\n",
    "    with open(path,'w') as f:\n",
    "        writer = tf.python_io.TFRecordWriter(f.name)\n",
    "    for example in data:\n",
    "        record = BP.sequence_to_tf_example(sequence=example[\"text\"],book_id=example[\"book_id\"])\n",
    "        writer.write(record.SerializeToString())\n"
   ]
  },
  {
   "cell_type": "code",
   "execution_count": 76,
   "metadata": {},
   "outputs": [],
   "source": [
    "BP.update_reverse_vocab()"
   ]
  },
  {
   "cell_type": "code",
   "execution_count": 77,
   "metadata": {},
   "outputs": [
    {
     "ename": "AttributeError",
     "evalue": "Can't pickle local object 'Preppy.__init__.<locals>.<lambda>'",
     "output_type": "error",
     "traceback": [
      "\u001b[0;31m---------------------------------------------------------------------------\u001b[0m",
      "\u001b[0;31mAttributeError\u001b[0m                            Traceback (most recent call last)",
      "\u001b[0;32m<ipython-input-77-4334e460b0aa>\u001b[0m in \u001b[0;36m<module>\u001b[0;34m()\u001b[0m\n\u001b[0;32m----> 1\u001b[0;31m \u001b[0mpickle\u001b[0m\u001b[0;34m.\u001b[0m\u001b[0mdump\u001b[0m\u001b[0;34m(\u001b[0m\u001b[0mBP\u001b[0m\u001b[0;34m,\u001b[0m\u001b[0mopen\u001b[0m\u001b[0;34m(\u001b[0m\u001b[0;34m'./preppy.pkl'\u001b[0m\u001b[0;34m,\u001b[0m\u001b[0;34m'wb'\u001b[0m\u001b[0;34m)\u001b[0m\u001b[0;34m)\u001b[0m\u001b[0;34m\u001b[0m\u001b[0m\n\u001b[0m",
      "\u001b[0;31mAttributeError\u001b[0m: Can't pickle local object 'Preppy.__init__.<locals>.<lambda>'"
     ]
    }
   ],
   "source": [
    "pickle.dump(BP,open('./preppy.pkl','wb'))"
   ]
  },
  {
   "cell_type": "code",
   "execution_count": 78,
   "metadata": {},
   "outputs": [
    {
     "data": {
      "text/plain": [
       "74"
      ]
     },
     "execution_count": 78,
     "metadata": {},
     "output_type": "execute_result"
    }
   ],
   "source": [
    "len(BP.vocab)"
   ]
  },
  {
   "cell_type": "code",
   "execution_count": null,
   "metadata": {},
   "outputs": [],
   "source": [
    "boo"
   ]
  }
 ],
 "metadata": {
  "kernelspec": {
   "display_name": "Python 3",
   "language": "python",
   "name": "python3"
  },
  "language_info": {
   "codemirror_mode": {
    "name": "ipython",
    "version": 3
   },
   "file_extension": ".py",
   "mimetype": "text/x-python",
   "name": "python",
   "nbconvert_exporter": "python",
   "pygments_lexer": "ipython3",
   "version": "3.5.2"
  }
 },
 "nbformat": 4,
 "nbformat_minor": 2
}
