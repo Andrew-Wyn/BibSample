{
 "cells": [
  {
   "cell_type": "markdown",
   "metadata": {},
   "source": [
    "Quick notebook to prepae examples (not the tfrecord kind) from Project Gutenborgs Bible text"
   ]
  },
  {
   "cell_type": "code",
   "execution_count": 1,
   "metadata": {},
   "outputs": [],
   "source": [
    "import re"
   ]
  },
  {
   "cell_type": "code",
   "execution_count": 2,
   "metadata": {},
   "outputs": [],
   "source": [
    "txt = open('./pg10.txt').read()"
   ]
  },
  {
   "cell_type": "code",
   "execution_count": 3,
   "metadata": {},
   "outputs": [],
   "source": [
    "split_reg = re.compile('\\n{4}')"
   ]
  },
  {
   "cell_type": "markdown",
   "metadata": {},
   "source": [
    "# split the raw text of the bible into books"
   ]
  },
  {
   "cell_type": "code",
   "execution_count": 4,
   "metadata": {},
   "outputs": [],
   "source": [
    "books = split_reg.split(txt)"
   ]
  },
  {
   "cell_type": "code",
   "execution_count": 5,
   "metadata": {},
   "outputs": [],
   "source": [
    "books = books[4:] # The first 4 are preamble from project gutenberg"
   ]
  },
  {
   "cell_type": "markdown",
   "metadata": {},
   "source": [
    "Split each book into the name of the book and its text"
   ]
  },
  {
   "cell_type": "code",
   "execution_count": 6,
   "metadata": {},
   "outputs": [],
   "source": [
    "book_verse_spliter = re.compile('\\n{3}(?=1:1)',flags=re.MULTILINE) #The look ahead makes sure the book starts at chapter 1 verse 1\n",
    "book,verses = book_verse_spliter.split(books[1])"
   ]
  },
  {
   "cell_type": "code",
   "execution_count": 7,
   "metadata": {},
   "outputs": [
    {
     "data": {
      "text/plain": [
       "'\\nThe Second Book of Moses:  Called Exodus\\n\\n\\n1:1 Now these are the names of the children of Israel, w'"
      ]
     },
     "execution_count": 7,
     "metadata": {},
     "output_type": "execute_result"
    }
   ],
   "source": [
    "books[1][:100]"
   ]
  },
  {
   "cell_type": "code",
   "execution_count": 8,
   "metadata": {},
   "outputs": [
    {
     "data": {
      "text/plain": [
       "'1:1 Now these are the names of the children of Israel, which came\\ninto Egypt; every man and his hous'"
      ]
     },
     "execution_count": 8,
     "metadata": {},
     "output_type": "execute_result"
    }
   ],
   "source": [
    "verses[:100]"
   ]
  },
  {
   "cell_type": "markdown",
   "metadata": {},
   "source": [
    "Split all the text in one book into verses. Make it a dict of chapter, verse and text"
   ]
  },
  {
   "cell_type": "code",
   "execution_count": 9,
   "metadata": {},
   "outputs": [],
   "source": [
    "verses_splitter = re.compile('(?P<chapter>\\d+):(?P<verse>\\d+)(?P<text>.+?)(?=\\d+\\:\\d+)',)"
   ]
  },
  {
   "cell_type": "code",
   "execution_count": 10,
   "metadata": {},
   "outputs": [],
   "source": [
    "gen = verses_splitter.finditer(verses.replace(\"\\n\",\"\"))"
   ]
  },
  {
   "cell_type": "code",
   "execution_count": 11,
   "metadata": {},
   "outputs": [
    {
     "data": {
      "text/plain": [
       "{'chapter': '1',\n",
       " 'text': ' Now these are the names of the children of Israel, which cameinto Egypt; every man and his household came with Jacob.',\n",
       " 'verse': '1'}"
      ]
     },
     "execution_count": 11,
     "metadata": {},
     "output_type": "execute_result"
    }
   ],
   "source": [
    "\n",
    "next(gen).groupdict()"
   ]
  },
  {
   "cell_type": "markdown",
   "metadata": {},
   "source": [
    "Lets run all of that on the entire bible"
   ]
  },
  {
   "cell_type": "code",
   "execution_count": 12,
   "metadata": {},
   "outputs": [],
   "source": [
    "examples= []\n",
    "book_id = 0\n",
    "book_map={}\n",
    "for num,book in enumerate(books):\n",
    "        splitted  = book_verse_spliter.split(book)\n",
    "        if len(splitted) >1:\n",
    "            book_name, book_text = splitted\n",
    "            book_name = book_name.strip().replace('\\n', ' ')\n",
    "            if book_name.startswith(\"The \"): #This filters out other junk in the dataset\n",
    "                for verse_regex_match in verses_splitter.finditer(book_text.replace(\"\\n\",\" \")):\n",
    "                    example = verse_regex_match.groupdict()\n",
    "                    example.update({\"book\":book_name,\"book_id\":book_id,\"text\":example[\"text\"].strip()})\n",
    "                    examples.append(example)\n",
    "            book_map[book_name] =book_id\n",
    "            book_id+=1\n",
    "            \n"
   ]
  },
  {
   "cell_type": "code",
   "execution_count": 13,
   "metadata": {},
   "outputs": [
    {
     "data": {
      "text/plain": [
       "27043"
      ]
     },
     "execution_count": 13,
     "metadata": {},
     "output_type": "execute_result"
    }
   ],
   "source": [
    "len(examples)"
   ]
  },
  {
   "cell_type": "markdown",
   "metadata": {},
   "source": [
    "Lets save it"
   ]
  },
  {
   "cell_type": "code",
   "execution_count": 14,
   "metadata": {},
   "outputs": [],
   "source": [
    "import pickle\n",
    "pickle.dump(examples,open('./bible_data.pkl','wb'))"
   ]
  },
  {
   "cell_type": "markdown",
   "metadata": {},
   "source": [
    "# Now we make them into TF records"
   ]
  },
  {
   "cell_type": "code",
   "execution_count": 15,
   "metadata": {},
   "outputs": [],
   "source": [
    "import tensorflow as tf\n",
    "from preppy import BibPreppy\n"
   ]
  },
  {
   "cell_type": "code",
   "execution_count": 16,
   "metadata": {},
   "outputs": [],
   "source": [
    "import random\n",
    "random.shuffle(examples)\n",
    "val,train = examples[:3000], examples[3000:]"
   ]
  },
  {
   "cell_type": "code",
   "execution_count": 17,
   "metadata": {},
   "outputs": [],
   "source": [
    "BP =BibPreppy(tokenizer_fn=list) #Charecter level tokenization\n",
    "for (data,path) in [(val,'./val.tfrecord'),(train,'./train.tfrecord')]:\n",
    "    with open(path,'w') as f:\n",
    "        writer = tf.python_io.TFRecordWriter(f.name)\n",
    "    for example in data:\n",
    "        record = BP.sequence_to_tf_example(sequence=example[\"text\"],book_id=example[\"book_id\"])\n",
    "        writer.write(record.SerializeToString())\n"
   ]
  },
  {
   "cell_type": "code",
   "execution_count": 18,
   "metadata": {},
   "outputs": [],
   "source": [
    "BP.update_reverse_vocab()\n",
    "BP.book_map.update(book_map)"
   ]
  },
  {
   "cell_type": "code",
   "execution_count": 19,
   "metadata": {},
   "outputs": [],
   "source": [
    "pickle.dump(BP,open('./preppy.pkl','wb'))"
   ]
  },
  {
   "cell_type": "code",
   "execution_count": 20,
   "metadata": {},
   "outputs": [
    {
     "data": {
      "text/plain": [
       "(65, 66)"
      ]
     },
     "execution_count": 20,
     "metadata": {},
     "output_type": "execute_result"
    }
   ],
   "source": [
    "len(BP.vocab),len(BP.book_map)"
   ]
  },
  {
   "cell_type": "code",
   "execution_count": 23,
   "metadata": {},
   "outputs": [
    {
     "data": {
      "text/plain": [
       "1"
      ]
     },
     "execution_count": 23,
     "metadata": {},
     "output_type": "execute_result"
    }
   ],
   "source": [
    "BP.vocab[\"<START>\"]"
   ]
  },
  {
   "cell_type": "code",
   "execution_count": 24,
   "metadata": {},
   "outputs": [
    {
     "data": {
      "text/plain": [
       "defaultdict(<bound method Preppy.next_value of <preppy.BibPreppy object at 0x7f8edddb22e8>>,\n",
       "            {' ': 7,\n",
       "             '!': 57,\n",
       "             \"'\": 43,\n",
       "             '(': 60,\n",
       "             ')': 62,\n",
       "             ',': 22,\n",
       "             '-': 63,\n",
       "             '.': 19,\n",
       "             ':': 40,\n",
       "             ';': 36,\n",
       "             '<EOS>': 2,\n",
       "             '<PAD>': 0,\n",
       "             '<START>': 1,\n",
       "             '?': 38,\n",
       "             'A': 20,\n",
       "             'B': 35,\n",
       "             'C': 48,\n",
       "             'D': 28,\n",
       "             'E': 45,\n",
       "             'F': 30,\n",
       "             'G': 46,\n",
       "             'H': 55,\n",
       "             'I': 41,\n",
       "             'J': 8,\n",
       "             'K': 61,\n",
       "             'L': 25,\n",
       "             'M': 49,\n",
       "             'N': 23,\n",
       "             'O': 26,\n",
       "             'P': 50,\n",
       "             'Q': 64,\n",
       "             'R': 27,\n",
       "             'S': 13,\n",
       "             'START': 65,\n",
       "             'T': 3,\n",
       "             'U': 56,\n",
       "             'V': 59,\n",
       "             'W': 51,\n",
       "             'Y': 58,\n",
       "             'Z': 44,\n",
       "             'a': 11,\n",
       "             'b': 17,\n",
       "             'c': 29,\n",
       "             'd': 12,\n",
       "             'e': 5,\n",
       "             'f': 34,\n",
       "             'g': 32,\n",
       "             'h': 4,\n",
       "             'i': 21,\n",
       "             'j': 54,\n",
       "             'k': 33,\n",
       "             'l': 31,\n",
       "             'm': 10,\n",
       "             'n': 6,\n",
       "             'o': 15,\n",
       "             'p': 16,\n",
       "             'q': 53,\n",
       "             'r': 24,\n",
       "             's': 9,\n",
       "             't': 14,\n",
       "             'u': 39,\n",
       "             'v': 42,\n",
       "             'w': 37,\n",
       "             'x': 52,\n",
       "             'y': 18,\n",
       "             'z': 47})"
      ]
     },
     "execution_count": 24,
     "metadata": {},
     "output_type": "execute_result"
    }
   ],
   "source": [
    "BP.vocab"
   ]
  },
  {
   "cell_type": "code",
   "execution_count": null,
   "metadata": {},
   "outputs": [],
   "source": []
  }
 ],
 "metadata": {
  "kernelspec": {
   "display_name": "Python 3",
   "language": "python",
   "name": "python3"
  },
  "language_info": {
   "codemirror_mode": {
    "name": "ipython",
    "version": 3
   },
   "file_extension": ".py",
   "mimetype": "text/x-python",
   "name": "python",
   "nbconvert_exporter": "python",
   "pygments_lexer": "ipython3",
   "version": "3.5.2"
  }
 },
 "nbformat": 4,
 "nbformat_minor": 2
}
